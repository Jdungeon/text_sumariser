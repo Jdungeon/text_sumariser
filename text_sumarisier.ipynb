{
  "nbformat": 4,
  "nbformat_minor": 0,
  "metadata": {
    "colab": {
      "name": "text_sumarisier.ipynb",
      "provenance": [],
      "include_colab_link": true
    },
    "kernelspec": {
      "name": "python3",
      "display_name": "Python 3"
    },
    "language_info": {
      "name": "python"
    }
  },
  "cells": [
    {
      "cell_type": "markdown",
      "metadata": {
        "id": "view-in-github",
        "colab_type": "text"
      },
      "source": [
        "<a href=\"https://colab.research.google.com/github/Jdungeon/text_sumariser/blob/main/text_sumarisier.ipynb\" target=\"_parent\"><img src=\"https://colab.research.google.com/assets/colab-badge.svg\" alt=\"Open In Colab\"/></a>"
      ]
    },
    {
      "cell_type": "markdown",
      "source": [
        "# Text Summarisation\n",
        "\n",
        "Recall an earlier notebook where you were given a task to summarise online content and produce a report. We converted an audio file to text. Similarly, we could write a notebook to convert a PDF or Word document to text or Web pages to text. The strategy is to convert everything to text, summarise the text, and use the summary in the final report.\n",
        "\n",
        "# The Challenge\n",
        "\n",
        "Create a project to summarise text and publish the project in Binder. \n",
        "\n",
        "You can choose how to input the text.  Some ideas include pasting it into a string, reading from a file, extract from a PDF or a webpage. \n",
        " \n",
        "It is okay to follow a online tutoirial or youtube video but make sure you have some understanding of what you are doing. You can ask you tutor for help if needed.  They will either help search, or perhaps explain the code in a tutorial.\n",
        "\n",
        "\n",
        "# Task 0 - Initialise a NEW repository\n",
        "\n",
        "We are going to deploy this notebook using Binder.\n",
        "\n",
        "* Initialise a new PUBLIC GitHub repository, say called, text_summariser.\n",
        "* Import this notebook into the new repository\n",
        "\n"
      ],
      "metadata": {
        "id": "SmVEXRTA1wZn"
      }
    },
    {
      "cell_type": "code",
      "source": [
        "!pip install gensim"
      ],
      "metadata": {
        "id": "c0-5lypin6RQ",
        "outputId": "58551744-3960-4c8c-bba8-eab56f494187",
        "colab": {
          "base_uri": "https://localhost:8080/"
        }
      },
      "execution_count": 1,
      "outputs": [
        {
          "output_type": "stream",
          "name": "stdout",
          "text": [
            "Requirement already satisfied: gensim in /usr/local/lib/python3.7/dist-packages (3.6.0)\n",
            "Requirement already satisfied: scipy>=0.18.1 in /usr/local/lib/python3.7/dist-packages (from gensim) (1.4.1)\n",
            "Requirement already satisfied: six>=1.5.0 in /usr/local/lib/python3.7/dist-packages (from gensim) (1.15.0)\n",
            "Requirement already satisfied: smart-open>=1.2.1 in /usr/local/lib/python3.7/dist-packages (from gensim) (5.2.1)\n",
            "Requirement already satisfied: numpy>=1.11.3 in /usr/local/lib/python3.7/dist-packages (from gensim) (1.21.5)\n"
          ]
        }
      ]
    },
    {
      "cell_type": "code",
      "source": [
        "from gensim.summarization import summarize"
      ],
      "metadata": {
        "id": "48RNuGBQIHQ0"
      },
      "execution_count": 2,
      "outputs": []
    },
    {
      "cell_type": "code",
      "source": [
        "mytext = str(input())"
      ],
      "metadata": {
        "id": "KOPlff87XNrq",
        "outputId": "94204832-8c2e-4d95-a4b3-c65d10a3001e",
        "colab": {
          "base_uri": "https://localhost:8080/"
        }
      },
      "execution_count": 17,
      "outputs": [
        {
          "name": "stdout",
          "output_type": "stream",
          "text": [
            "          Marketing is according to Dr. Philip Kotler, the science and art of discovering, developing, and providing value to meet the demands of a target market while making a profit (Woolley 2016). One of the principal components of strategic marketing is market segmentation. Market segmentation is the division of the market into various submarkets that are identical within but differ from each other (Usman, Lizam, and Adekunle 2020). It is a decision-making tool that will help the marketing manager in matching a given product with its optimal target market and therefore help in making the perfect marketing collateral. In the most ideal conditions, when market segmentation is done right, consumers will be placed into a submarket with other consumers sharing very similar characteristics. At the same time, consumers in other submarkets will be different from one another with respect to those consumer characteristics. Market segmentation is very beneficial as a whole. The most common benefit of segmentation is that it aids organisations to consider their actual position and plan out their future moves. In other words, segmentation helps congeries in identifying what they are particularly good at compared to their competitors while also discover the real desires of consumers (Dolnicar, Grün, and Leisch 2018). Furthermore, Market segmentation helps improve the performance of marketing campaigns by enabling marketers to target the right messages to the right people at the right time. Segmentation gives the marketing agent more information about their audience so that they can tailor the message according to the consumers’ tastes and needs. This will enable businesses to create products that better match their audiences’ needs (Lotame Solutions, Inc. 2019). Before segments are divided in a market, the marketing agent needs to evaluate which segmentation criterion to use. Segmentation criterion refers to the source of information used in market segmentation. The segmentation criterion is usually divided into bases.\n"
          ]
        }
      ]
    },
    {
      "cell_type": "code",
      "source": [
        "len(mytext)"
      ],
      "metadata": {
        "id": "EtV9xYlZajI7",
        "outputId": "5e883946-0e7d-43c2-c502-afcd04e61004",
        "colab": {
          "base_uri": "https://localhost:8080/"
        }
      },
      "execution_count": 18,
      "outputs": [
        {
          "output_type": "execute_result",
          "data": {
            "text/plain": [
              "2044"
            ]
          },
          "metadata": {},
          "execution_count": 18
        }
      ]
    },
    {
      "cell_type": "code",
      "source": [
        "summarize(mytext)"
      ],
      "metadata": {
        "id": "_QWio59JanBn",
        "outputId": "78dfa6dc-cab1-480e-ff75-4403e43ef666",
        "colab": {
          "base_uri": "https://localhost:8080/",
          "height": 53
        }
      },
      "execution_count": 19,
      "outputs": [
        {
          "output_type": "execute_result",
          "data": {
            "text/plain": [
              "'In the most ideal conditions, when market segmentation is done right, consumers will be placed into a submarket with other consumers sharing very similar characteristics.\\nSegmentation gives the marketing agent more information about their audience so that they can tailor the message according to the consumers’ tastes and needs.\\nBefore segments are divided in a market, the marketing agent needs to evaluate which segmentation criterion to use.'"
            ],
            "application/vnd.google.colaboratory.intrinsic+json": {
              "type": "string"
            }
          },
          "metadata": {},
          "execution_count": 19
        }
      ]
    },
    {
      "cell_type": "code",
      "source": [
        "summary_txt = summarize(mytext)"
      ],
      "metadata": {
        "id": "BRH7bV7haxKT"
      },
      "execution_count": 20,
      "outputs": []
    },
    {
      "cell_type": "code",
      "source": [
        "# length of summarized text\n",
        "len(summary_txt)"
      ],
      "metadata": {
        "id": "SVuuT5GiazVl",
        "outputId": "2ca3f02b-b1c8-490c-8830-28e4d59609da",
        "colab": {
          "base_uri": "https://localhost:8080/"
        }
      },
      "execution_count": 21,
      "outputs": [
        {
          "output_type": "execute_result",
          "data": {
            "text/plain": [
              "445"
            ]
          },
          "metadata": {},
          "execution_count": 21
        }
      ]
    },
    {
      "cell_type": "code",
      "source": [
        "summary_txt"
      ],
      "metadata": {
        "id": "DsWrRkiJa1PH",
        "outputId": "57aba002-5c66-4517-bd7f-cbe2c91ec813",
        "colab": {
          "base_uri": "https://localhost:8080/",
          "height": 53
        }
      },
      "execution_count": 23,
      "outputs": [
        {
          "output_type": "execute_result",
          "data": {
            "text/plain": [
              "'In the most ideal conditions, when market segmentation is done right, consumers will be placed into a submarket with other consumers sharing very similar characteristics.\\nSegmentation gives the marketing agent more information about their audience so that they can tailor the message according to the consumers’ tastes and needs.\\nBefore segments are divided in a market, the marketing agent needs to evaluate which segmentation criterion to use.'"
            ],
            "application/vnd.google.colaboratory.intrinsic+json": {
              "type": "string"
            }
          },
          "metadata": {},
          "execution_count": 23
        }
      ]
    }
  ]
}